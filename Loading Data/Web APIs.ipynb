{
 "cells": [
  {
   "cell_type": "code",
   "execution_count": 2,
   "metadata": {},
   "outputs": [],
   "source": [
    "import pandas as pd\n",
    "import requests"
   ]
  },
  {
   "cell_type": "code",
   "execution_count": 3,
   "metadata": {},
   "outputs": [],
   "source": [
    "url = 'https://api.github.com/repos/pandas-dev/pandas/issues'"
   ]
  },
  {
   "cell_type": "code",
   "execution_count": 5,
   "metadata": {},
   "outputs": [],
   "source": [
    "resp = requests.get(url)"
   ]
  },
  {
   "cell_type": "code",
   "execution_count": 9,
   "metadata": {},
   "outputs": [],
   "source": [
    "resp.content"
   ]
  },
  {
   "cell_type": "code",
   "execution_count": 13,
   "metadata": {},
   "outputs": [
    {
     "data": {
      "text/plain": [
       "dict_keys(['url', 'repository_url', 'labels_url', 'comments_url', 'events_url', 'html_url', 'id', 'node_id', 'number', 'title', 'user', 'labels', 'state', 'locked', 'assignee', 'assignees', 'milestone', 'comments', 'created_at', 'updated_at', 'closed_at', 'author_association', 'body'])"
      ]
     },
     "execution_count": 13,
     "metadata": {},
     "output_type": "execute_result"
    }
   ],
   "source": [
    "data = resp.json()\n",
    "data[0]['title']\n",
    "data[0].keys()"
   ]
  },
  {
   "cell_type": "code",
   "execution_count": 14,
   "metadata": {},
   "outputs": [
    {
     "data": {
      "text/plain": [
       "{'avatar_url': 'https://avatars1.githubusercontent.com/u/8078968?v=4',\n",
       " 'events_url': 'https://api.github.com/users/jbrockmendel/events{/privacy}',\n",
       " 'followers_url': 'https://api.github.com/users/jbrockmendel/followers',\n",
       " 'following_url': 'https://api.github.com/users/jbrockmendel/following{/other_user}',\n",
       " 'gists_url': 'https://api.github.com/users/jbrockmendel/gists{/gist_id}',\n",
       " 'gravatar_id': '',\n",
       " 'html_url': 'https://github.com/jbrockmendel',\n",
       " 'id': 8078968,\n",
       " 'login': 'jbrockmendel',\n",
       " 'node_id': 'MDQ6VXNlcjgwNzg5Njg=',\n",
       " 'organizations_url': 'https://api.github.com/users/jbrockmendel/orgs',\n",
       " 'received_events_url': 'https://api.github.com/users/jbrockmendel/received_events',\n",
       " 'repos_url': 'https://api.github.com/users/jbrockmendel/repos',\n",
       " 'site_admin': False,\n",
       " 'starred_url': 'https://api.github.com/users/jbrockmendel/starred{/owner}{/repo}',\n",
       " 'subscriptions_url': 'https://api.github.com/users/jbrockmendel/subscriptions',\n",
       " 'type': 'User',\n",
       " 'url': 'https://api.github.com/users/jbrockmendel'}"
      ]
     },
     "execution_count": 14,
     "metadata": {},
     "output_type": "execute_result"
    }
   ],
   "source": [
    "data[0]['user']"
   ]
  },
  {
   "cell_type": "code",
   "execution_count": 16,
   "metadata": {},
   "outputs": [
    {
     "data": {
      "text/html": [
       "<div>\n",
       "<style scoped>\n",
       "    .dataframe tbody tr th:only-of-type {\n",
       "        vertical-align: middle;\n",
       "    }\n",
       "\n",
       "    .dataframe tbody tr th {\n",
       "        vertical-align: top;\n",
       "    }\n",
       "\n",
       "    .dataframe thead th {\n",
       "        text-align: right;\n",
       "    }\n",
       "</style>\n",
       "<table border=\"1\" class=\"dataframe\">\n",
       "  <thead>\n",
       "    <tr style=\"text-align: right;\">\n",
       "      <th></th>\n",
       "      <th>number</th>\n",
       "      <th>title</th>\n",
       "      <th>user</th>\n",
       "      <th>state</th>\n",
       "    </tr>\n",
       "  </thead>\n",
       "  <tbody>\n",
       "    <tr>\n",
       "      <th>0</th>\n",
       "      <td>22682</td>\n",
       "      <td>CI: xlrd PendingDeprecationWarning</td>\n",
       "      <td>{'login': 'jbrockmendel', 'id': 8078968, 'node...</td>\n",
       "      <td>open</td>\n",
       "    </tr>\n",
       "    <tr>\n",
       "      <th>1</th>\n",
       "      <td>22681</td>\n",
       "      <td>TST Replace unittest.TestCase.fail calls, use ...</td>\n",
       "      <td>{'login': 'rth', 'id': 630936, 'node_id': 'MDQ...</td>\n",
       "      <td>open</td>\n",
       "    </tr>\n",
       "    <tr>\n",
       "      <th>2</th>\n",
       "      <td>22680</td>\n",
       "      <td>Add a method to ExtensionArray interface for w...</td>\n",
       "      <td>{'login': 'TomAugspurger', 'id': 1312546, 'nod...</td>\n",
       "      <td>open</td>\n",
       "    </tr>\n",
       "    <tr>\n",
       "      <th>3</th>\n",
       "      <td>22679</td>\n",
       "      <td>Close ZipFile in compression test</td>\n",
       "      <td>{'login': 'TomAugspurger', 'id': 1312546, 'nod...</td>\n",
       "      <td>open</td>\n",
       "    </tr>\n",
       "    <tr>\n",
       "      <th>4</th>\n",
       "      <td>22677</td>\n",
       "      <td>API/DEPR: error_bad_lines/warn_bad_lines in pd...</td>\n",
       "      <td>{'login': 'h-vetinari', 'id': 33685575, 'node_...</td>\n",
       "      <td>open</td>\n",
       "    </tr>\n",
       "  </tbody>\n",
       "</table>\n",
       "</div>"
      ],
      "text/plain": [
       "   number                                              title  \\\n",
       "0   22682                 CI: xlrd PendingDeprecationWarning   \n",
       "1   22681  TST Replace unittest.TestCase.fail calls, use ...   \n",
       "2   22680  Add a method to ExtensionArray interface for w...   \n",
       "3   22679                  Close ZipFile in compression test   \n",
       "4   22677  API/DEPR: error_bad_lines/warn_bad_lines in pd...   \n",
       "\n",
       "                                                user state  \n",
       "0  {'login': 'jbrockmendel', 'id': 8078968, 'node...  open  \n",
       "1  {'login': 'rth', 'id': 630936, 'node_id': 'MDQ...  open  \n",
       "2  {'login': 'TomAugspurger', 'id': 1312546, 'nod...  open  \n",
       "3  {'login': 'TomAugspurger', 'id': 1312546, 'nod...  open  \n",
       "4  {'login': 'h-vetinari', 'id': 33685575, 'node_...  open  "
      ]
     },
     "execution_count": 16,
     "metadata": {},
     "output_type": "execute_result"
    }
   ],
   "source": [
    "# Structuring things\n",
    "df = pd.DataFrame(data, columns=['number', 'title', 'user', 'state'])\n",
    "df[:5]"
   ]
  }
 ],
 "metadata": {
  "kernelspec": {
   "display_name": "Python 3",
   "language": "python",
   "name": "python3"
  },
  "language_info": {
   "codemirror_mode": {
    "name": "ipython",
    "version": 3
   },
   "file_extension": ".py",
   "mimetype": "text/x-python",
   "name": "python",
   "nbconvert_exporter": "python",
   "pygments_lexer": "ipython3",
   "version": "3.6.4"
  }
 },
 "nbformat": 4,
 "nbformat_minor": 2
}
