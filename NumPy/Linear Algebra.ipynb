{
 "cells": [
  {
   "cell_type": "code",
   "execution_count": 1,
   "metadata": {},
   "outputs": [],
   "source": [
    "import numpy as np"
   ]
  },
  {
   "cell_type": "code",
   "execution_count": 7,
   "metadata": {},
   "outputs": [],
   "source": [
    "x = np.array([[4., 5., 6.], [7., 8., 9.]])\n",
    "y = np.array([[2., 3.], [-1, 9], [4, 6]])"
   ]
  },
  {
   "cell_type": "code",
   "execution_count": 8,
   "metadata": {},
   "outputs": [
    {
     "data": {
      "text/plain": [
       "array([[4., 5., 6.],\n",
       "       [7., 8., 9.]])"
      ]
     },
     "execution_count": 8,
     "metadata": {},
     "output_type": "execute_result"
    }
   ],
   "source": [
    "x"
   ]
  },
  {
   "cell_type": "code",
   "execution_count": 9,
   "metadata": {},
   "outputs": [
    {
     "data": {
      "text/plain": [
       "array([[ 2.,  3.],\n",
       "       [-1.,  9.],\n",
       "       [ 4.,  6.]])"
      ]
     },
     "execution_count": 9,
     "metadata": {},
     "output_type": "execute_result"
    }
   ],
   "source": [
    "y"
   ]
  },
  {
   "cell_type": "code",
   "execution_count": 10,
   "metadata": {},
   "outputs": [
    {
     "data": {
      "text/plain": [
       "array([[ 27.,  93.],\n",
       "       [ 42., 147.]])"
      ]
     },
     "execution_count": 10,
     "metadata": {},
     "output_type": "execute_result"
    }
   ],
   "source": [
    "x.dot(y)"
   ]
  },
  {
   "cell_type": "code",
   "execution_count": 11,
   "metadata": {},
   "outputs": [
    {
     "data": {
      "text/plain": [
       "array([[ 27.,  93.],\n",
       "       [ 42., 147.]])"
      ]
     },
     "execution_count": 11,
     "metadata": {},
     "output_type": "execute_result"
    }
   ],
   "source": [
    "# Same as\n",
    "np.dot(x, y)"
   ]
  },
  {
   "cell_type": "code",
   "execution_count": 12,
   "metadata": {},
   "outputs": [
    {
     "data": {
      "text/plain": [
       "array([15., 24.])"
      ]
     },
     "execution_count": 12,
     "metadata": {},
     "output_type": "execute_result"
    }
   ],
   "source": [
    "# matrix multiplication using one dimension array\n",
    "\n",
    "z = np.ones(3)\n",
    "\n",
    "np.dot(x, z)"
   ]
  },
  {
   "cell_type": "code",
   "execution_count": 13,
   "metadata": {},
   "outputs": [],
   "source": [
    "from numpy.linalg import inv, qrb"
   ]
  },
  {
   "cell_type": "code",
   "execution_count": 15,
   "metadata": {},
   "outputs": [
    {
     "data": {
      "text/plain": [
       "array([[-1.67054663, -0.75650443, -1.49285913, -0.2678747 , -0.35638957],\n",
       "       [-0.54255748, -0.58111023,  0.24225701,  0.06656208, -1.40518088],\n",
       "       [-0.55935605,  1.41310616,  1.28347979, -1.44377014,  0.59904382],\n",
       "       [-0.28375516,  0.93366278, -0.18442276, -0.76282539, -0.25009966],\n",
       "       [-0.70043493, -1.51106944,  0.51887068, -0.58468046, -0.3181766 ]])"
      ]
     },
     "execution_count": 15,
     "metadata": {},
     "output_type": "execute_result"
    }
   ],
   "source": [
    "a = np.random.randn(5, 5)\n",
    "a"
   ]
  },
  {
   "cell_type": "code",
   "execution_count": 17,
   "metadata": {},
   "outputs": [
    {
     "data": {
      "text/plain": [
       "array([[ 3.96909992,  1.58210634,  1.33342602,  1.84495123,  1.31650708],\n",
       "       [ 1.58210634,  6.06191409,  1.84603142, -1.70496088,  2.17996599],\n",
       "       [ 1.33342602,  1.84603142,  4.23787575, -1.59971665,  0.84151671],\n",
       "       [ 1.84495123, -1.70496088, -1.59971665,  3.0844134 , -0.48613158],\n",
       "       [ 1.31650708,  2.17996599,  0.84151671, -0.48613158,  2.62418652]])"
      ]
     },
     "execution_count": 17,
     "metadata": {},
     "output_type": "execute_result"
    }
   ],
   "source": [
    "# Compute the dot product on a transposed view of the same matrix\n",
    "matrix = a.T.dot(a)\n",
    "\n",
    "matrix"
   ]
  },
  {
   "cell_type": "code",
   "execution_count": 19,
   "metadata": {},
   "outputs": [
    {
     "data": {
      "text/plain": [
       "array([[ 2.52543067, -0.76500082, -1.35930763, -2.74956125, -0.70491943],\n",
       "       [-0.76500082,  0.50927295,  0.36768492,  0.93223976,  0.01551318],\n",
       "       [-1.35930763,  0.36768492,  1.04428282,  1.61154234,  0.34015787],\n",
       "       [-2.74956125,  0.93223976,  1.61154234,  3.4341665 ,  0.72437034],\n",
       "       [-0.70491943,  0.01551318,  0.34015787,  0.72437034,  0.74693775]])"
      ]
     },
     "execution_count": 19,
     "metadata": {},
     "output_type": "execute_result"
    }
   ],
   "source": [
    "# Compute inverse\n",
    "inv(matrix)"
   ]
  },
  {
   "cell_type": "code",
   "execution_count": 22,
   "metadata": {},
   "outputs": [
    {
     "data": {
      "text/plain": [
       "array([[-0.79110521,  0.20694149, -0.00437202,  0.19552477, -0.54136745],\n",
       "       [-0.31533914, -0.80603601,  0.32305616, -0.38257019,  0.01191389],\n",
       "       [-0.26577317, -0.14552517, -0.89020134, -0.21790896,  0.26123609],\n",
       "       [-0.36772834,  0.49542196,  0.30589182, -0.46506707,  0.55630546],\n",
       "       [-0.26240096, -0.20214024,  0.09791509,  0.74272365,  0.57363689]])"
      ]
     },
     "execution_count": 22,
     "metadata": {},
     "output_type": "execute_result"
    }
   ],
   "source": [
    "q, r = qr(matrix)\n",
    "q"
   ]
  },
  {
   "cell_type": "code",
   "execution_count": 23,
   "metadata": {},
   "outputs": [
    {
     "data": {
      "text/plain": [
       "array([[-5.01715812, -3.59885971, -2.39587355, -1.50341269, -2.46240147],\n",
       "       [ 0.        , -6.11269556, -2.79138337,  3.61520874, -2.37844698],\n",
       "       [ 0.        ,  0.        , -3.58896369,  1.76110287,  0.05762013],\n",
       "       [ 0.        ,  0.        ,  0.        , -0.43392706,  1.41517487],\n",
       "       [ 0.        ,  0.        ,  0.        ,  0.        ,  0.76798486]])"
      ]
     },
     "execution_count": 23,
     "metadata": {},
     "output_type": "execute_result"
    }
   ],
   "source": [
    "r"
   ]
  }
 ],
 "metadata": {
  "kernelspec": {
   "display_name": "Python 3",
   "language": "python",
   "name": "python3"
  },
  "language_info": {
   "codemirror_mode": {
    "name": "ipython",
    "version": 3
   },
   "file_extension": ".py",
   "mimetype": "text/x-python",
   "name": "python",
   "nbconvert_exporter": "python",
   "pygments_lexer": "ipython3",
   "version": "3.6.4"
  }
 },
 "nbformat": 4,
 "nbformat_minor": 2
}
