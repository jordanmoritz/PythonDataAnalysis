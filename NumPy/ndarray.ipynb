{
 "cells": [
  {
   "cell_type": "code",
   "execution_count": 1,
   "metadata": {},
   "outputs": [],
   "source": [
    "import numpy as np"
   ]
  },
  {
   "cell_type": "code",
   "execution_count": 2,
   "metadata": {},
   "outputs": [],
   "source": [
    "# demonstrating numpy efficiency\n",
    "\n",
    "my_arr = np.arange(1000000)\n",
    "\n",
    "my_list = list(range(1000000))"
   ]
  },
  {
   "cell_type": "code",
   "execution_count": 3,
   "metadata": {},
   "outputs": [
    {
     "name": "stdout",
     "output_type": "stream",
     "text": [
      "Wall time: 27 ms\n"
     ]
    }
   ],
   "source": [
    "%time for _ in range(10): my_arr2 = my_arr * 2"
   ]
  },
  {
   "cell_type": "code",
   "execution_count": 4,
   "metadata": {},
   "outputs": [
    {
     "name": "stdout",
     "output_type": "stream",
     "text": [
      "Wall time: 837 ms\n"
     ]
    }
   ],
   "source": [
    "%time for _ in range(10): my_list2 = [x * 2 for x in my_list]"
   ]
  },
  {
   "cell_type": "code",
   "execution_count": 5,
   "metadata": {},
   "outputs": [],
   "source": [
    "# Applying computations to ndarrays\n",
    "# Random data\n",
    "data = np.random.randn(2, 3)"
   ]
  },
  {
   "cell_type": "code",
   "execution_count": 6,
   "metadata": {},
   "outputs": [
    {
     "name": "stdout",
     "output_type": "stream",
     "text": [
      "[[-0.00385648  0.29894388  0.42881137]\n",
      " [ 0.73444922  0.41595608  0.97788031]]\n",
      "[[-0.03856483  2.98943885  4.28811368]\n",
      " [ 7.34449223  4.1595608   9.7788031 ]]\n"
     ]
    },
    {
     "data": {
      "text/plain": [
       "array([[-0.00771297,  0.59788777,  0.85762274],\n",
       "       [ 1.46889845,  0.83191216,  1.95576062]])"
      ]
     },
     "execution_count": 6,
     "metadata": {},
     "output_type": "execute_result"
    }
   ],
   "source": [
    "print(data)\n",
    "\n",
    "print(data * 10)\n",
    "\n",
    "data + data"
   ]
  },
  {
   "cell_type": "code",
   "execution_count": 7,
   "metadata": {},
   "outputs": [
    {
     "data": {
      "text/plain": [
       "(2, 3)"
      ]
     },
     "execution_count": 7,
     "metadata": {},
     "output_type": "execute_result"
    }
   ],
   "source": [
    "data.shape"
   ]
  },
  {
   "cell_type": "code",
   "execution_count": 8,
   "metadata": {},
   "outputs": [
    {
     "data": {
      "text/plain": [
       "array([6. , 7. , 8. , 9. , 0. , 2.2])"
      ]
     },
     "execution_count": 8,
     "metadata": {},
     "output_type": "execute_result"
    }
   ],
   "source": [
    "d1 = [6, 7, 8, 9, 0, 2.2]\n",
    "\n",
    "arr1 = np.array(d1)\n",
    "\n",
    "arr1"
   ]
  },
  {
   "cell_type": "code",
   "execution_count": 9,
   "metadata": {},
   "outputs": [
    {
     "data": {
      "text/plain": [
       "dtype('int32')"
      ]
     },
     "execution_count": 9,
     "metadata": {},
     "output_type": "execute_result"
    }
   ],
   "source": [
    "d2 = [[4, 3, 2, 1], [9, 8, 7, 6]]\n",
    "\n",
    "arr2 = np.array(d2)\n",
    "\n",
    "# arr2.shape\n",
    "# arr2.ndim\n",
    "\n",
    "arr1.dtype\n",
    "\n",
    "arr2.dtype"
   ]
  },
  {
   "cell_type": "code",
   "execution_count": 10,
   "metadata": {},
   "outputs": [
    {
     "data": {
      "text/plain": [
       "numpy.ndarray"
      ]
     },
     "execution_count": 10,
     "metadata": {},
     "output_type": "execute_result"
    }
   ],
   "source": [
    "# Other numpy functions for ndarray creation\n",
    "\n",
    "np.zeros((2, 3))\n",
    "\n",
    "np.ones((3, 4))\n",
    "\n",
    "np.empty((2, 3, 2))\n",
    "\n",
    "type(np.arange(5))"
   ]
  },
  {
   "cell_type": "code",
   "execution_count": 15,
   "metadata": {},
   "outputs": [
    {
     "data": {
      "text/plain": [
       "array([0., 1., 2., 3., 4., 5., 6., 7., 8., 9.])"
      ]
     },
     "execution_count": 15,
     "metadata": {},
     "output_type": "execute_result"
    }
   ],
   "source": [
    "# Messing around with type\n",
    "\n",
    "int_array = np.arange(10)\n",
    "\n",
    "int_array\n",
    "\n",
    "decimals = np.array([.11, .22], dtype=np.float64)\n",
    "\n",
    "# Casting the dtype of another array\n",
    "int_array.astype(decimals.dtype)"
   ]
  },
  {
   "cell_type": "code",
   "execution_count": null,
   "metadata": {},
   "outputs": [],
   "source": [
    "# Indexing/slicing\n",
    "arr5 = np.arange(10)\n",
    "\n",
    "arr5[0:3]\n",
    "\n",
    "# 'Broadcasting' onto arrays\n",
    "arr5[0:3] = 50\n",
    "\n",
    "arr5"
   ]
  },
  {
   "cell_type": "code",
   "execution_count": 30,
   "metadata": {},
   "outputs": [
    {
     "data": {
      "text/plain": [
       "array([ 50, 123,  50,   3,   4,   5,   6,   7,   8,   9])"
      ]
     },
     "execution_count": 30,
     "metadata": {},
     "output_type": "execute_result"
    }
   ],
   "source": [
    "# array slices as views of original array\n",
    "\n",
    "arr_slice = arr5[0:3]\n",
    "arr_slice\n",
    "\n",
    "# Because arr_slice is just a 'view' of arr5[0:3]\n",
    "# When I make a change to arr_slice[1] it technically modifies\n",
    "# arr5[1]\n",
    "arr_slice[1] = 123\n",
    "\n",
    "# Crazy!\n",
    "arr5\n",
    "\n",
    "# If you did want to copy, just .copy()\n",
    "\n",
    "arr_slice2 = arr5[0:3].copy()\n",
    "\n",
    "arr_slice2[:] = 999\n",
    "\n",
    "arr_slice2\n",
    "\n",
    "# Voila!\n",
    "arr5"
   ]
  },
  {
   "cell_type": "code",
   "execution_count": 34,
   "metadata": {},
   "outputs": [
    {
     "data": {
      "text/plain": [
       "array([[1, 2, 3],\n",
       "       [4, 5, 6],\n",
       "       [7, 8, 9]])"
      ]
     },
     "execution_count": 34,
     "metadata": {},
     "output_type": "execute_result"
    }
   ],
   "source": [
    "# On to two dimension arrays!\n",
    "\n",
    "arr_md = np.array([[1,2,3], [4,5,6], [7,8,9]])\n",
    "\n",
    "arr_md"
   ]
  },
  {
   "cell_type": "code",
   "execution_count": 42,
   "metadata": {},
   "outputs": [
    {
     "name": "stdout",
     "output_type": "stream",
     "text": [
      "1\n",
      "2\n",
      "3\n",
      "4\n",
      "5\n",
      "6\n",
      "7\n",
      "8\n",
      "9\n"
     ]
    }
   ],
   "source": [
    "arr_md[0][2]\n",
    "# same as\n",
    "arr_md[0, 2]\n",
    "\n",
    "# But both bad because of index chaining?\n",
    "# Nvm I guess loc iloc aren't properties of NumPy arrays\n",
    "\n",
    "for row in range(len(arr_md)):\n",
    "    for column in range(len(arr_md)):\n",
    "        print(arr_md[row, column])"
   ]
  },
  {
   "cell_type": "code",
   "execution_count": 48,
   "metadata": {},
   "outputs": [
    {
     "data": {
      "text/plain": [
       "array([[ 7,  8,  9],\n",
       "       [10, 11, 12]])"
      ]
     },
     "execution_count": 48,
     "metadata": {},
     "output_type": "execute_result"
    }
   ],
   "source": [
    "# N Dimensional arrays\n",
    "\n",
    "arr_3d = np.array([[[1,2,3], [4,5,6]], [[7,8,9], [10,11,12]]])\n",
    "\n",
    "arr_3d[0, 1, 1]\n",
    "\n",
    "arr_3d[1]"
   ]
  },
  {
   "cell_type": "code",
   "execution_count": 54,
   "metadata": {},
   "outputs": [
    {
     "data": {
      "text/plain": [
       "array([[1, 2, 3],\n",
       "       [4, 5, 6],\n",
       "       [7, 8, 9]])"
      ]
     },
     "execution_count": 54,
     "metadata": {},
     "output_type": "execute_result"
    }
   ],
   "source": [
    "arr_md"
   ]
  },
  {
   "cell_type": "code",
   "execution_count": 79,
   "metadata": {},
   "outputs": [
    {
     "data": {
      "text/plain": [
       "array([[ 1,  2,  3],\n",
       "       [ 4, 11, 11],\n",
       "       [ 7, 11, 11]])"
      ]
     },
     "execution_count": 79,
     "metadata": {},
     "output_type": "execute_result"
    }
   ],
   "source": [
    "# Same stuff but with slicing instead indexing\n",
    "arr_md\n",
    "arr_md[0:2]\n",
    "\n",
    "# YOU CAN MIX INDEXES AND SLICES! Cool\n",
    "arr_md[:3, 0]\n",
    "\n",
    "arr_md[:2, 1:2]\n",
    "\n",
    "arr_md[:, :2]\n",
    "\n",
    "arr_md[1:3, 1:3]\n",
    "\n",
    "# and if you want to destroy things\n",
    "\n",
    "arr_md[1:3, 1:3] * 3\n",
    "\n",
    "arr_md[1:3, 1:3] = 11\n",
    "\n",
    "arr_md"
   ]
  }
 ],
 "metadata": {
  "kernelspec": {
   "display_name": "Python 3",
   "language": "python",
   "name": "python3"
  },
  "language_info": {
   "codemirror_mode": {
    "name": "ipython",
    "version": 3
   },
   "file_extension": ".py",
   "mimetype": "text/x-python",
   "name": "python",
   "nbconvert_exporter": "python",
   "pygments_lexer": "ipython3",
   "version": "3.6.4"
  }
 },
 "nbformat": 4,
 "nbformat_minor": 2
}
