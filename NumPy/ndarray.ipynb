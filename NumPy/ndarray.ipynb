{
 "cells": [
  {
   "cell_type": "code",
   "execution_count": 1,
   "metadata": {},
   "outputs": [],
   "source": [
    "import numpy as np"
   ]
  },
  {
   "cell_type": "code",
   "execution_count": 2,
   "metadata": {},
   "outputs": [],
   "source": [
    "# demonstrating numpy efficiency\n",
    "\n",
    "my_arr = np.arange(1000000)\n",
    "\n",
    "my_list = list(range(1000000))"
   ]
  },
  {
   "cell_type": "code",
   "execution_count": 3,
   "metadata": {},
   "outputs": [
    {
     "name": "stdout",
     "output_type": "stream",
     "text": [
      "Wall time: 22.9 ms\n"
     ]
    }
   ],
   "source": [
    "%time for _ in range(10): my_arr2 = my_arr * 2"
   ]
  },
  {
   "cell_type": "code",
   "execution_count": 4,
   "metadata": {},
   "outputs": [
    {
     "name": "stdout",
     "output_type": "stream",
     "text": [
      "Wall time: 839 ms\n"
     ]
    }
   ],
   "source": [
    "%time for _ in range(10): my_list2 = [x * 2 for x in my_list]"
   ]
  },
  {
   "cell_type": "code",
   "execution_count": 5,
   "metadata": {},
   "outputs": [],
   "source": [
    "# Applying computations to ndarrays\n",
    "# Random data\n",
    "data = np.random.randn(2, 3)"
   ]
  },
  {
   "cell_type": "code",
   "execution_count": 6,
   "metadata": {},
   "outputs": [
    {
     "name": "stdout",
     "output_type": "stream",
     "text": [
      "[[-0.43720044  1.29506539 -1.64519931]\n",
      " [-0.71695512 -1.12656005  1.23226073]]\n",
      "[[ -4.37200437  12.95065391 -16.45199313]\n",
      " [ -7.16955116 -11.2656005   12.3226073 ]]\n"
     ]
    },
    {
     "data": {
      "text/plain": [
       "array([[-0.87440087,  2.59013078, -3.29039863],\n",
       "       [-1.43391023, -2.2531201 ,  2.46452146]])"
      ]
     },
     "execution_count": 6,
     "metadata": {},
     "output_type": "execute_result"
    }
   ],
   "source": [
    "print(data)\n",
    "\n",
    "print(data * 10)\n",
    "\n",
    "data + data"
   ]
  },
  {
   "cell_type": "code",
   "execution_count": 7,
   "metadata": {},
   "outputs": [
    {
     "data": {
      "text/plain": [
       "(2, 3)"
      ]
     },
     "execution_count": 7,
     "metadata": {},
     "output_type": "execute_result"
    }
   ],
   "source": [
    "data.shape"
   ]
  },
  {
   "cell_type": "code",
   "execution_count": 8,
   "metadata": {},
   "outputs": [
    {
     "data": {
      "text/plain": [
       "array([6. , 7. , 8. , 9. , 0. , 2.2])"
      ]
     },
     "execution_count": 8,
     "metadata": {},
     "output_type": "execute_result"
    }
   ],
   "source": [
    "d1 = [6, 7, 8, 9, 0, 2.2]\n",
    "\n",
    "arr1 = np.array(d1)\n",
    "\n",
    "arr1"
   ]
  },
  {
   "cell_type": "code",
   "execution_count": 9,
   "metadata": {},
   "outputs": [
    {
     "data": {
      "text/plain": [
       "dtype('int32')"
      ]
     },
     "execution_count": 9,
     "metadata": {},
     "output_type": "execute_result"
    }
   ],
   "source": [
    "d2 = [[4, 3, 2, 1], [9, 8, 7, 6]]\n",
    "\n",
    "arr2 = np.array(d2)\n",
    "\n",
    "# arr2.shape\n",
    "# arr2.ndim\n",
    "\n",
    "arr1.dtype\n",
    "\n",
    "arr2.dtype"
   ]
  },
  {
   "cell_type": "code",
   "execution_count": 10,
   "metadata": {},
   "outputs": [
    {
     "data": {
      "text/plain": [
       "numpy.ndarray"
      ]
     },
     "execution_count": 10,
     "metadata": {},
     "output_type": "execute_result"
    }
   ],
   "source": [
    "# Other numpy functions for ndarray creation\n",
    "\n",
    "np.zeros((2, 3))\n",
    "\n",
    "np.ones((3, 4))\n",
    "\n",
    "np.empty((2, 3, 2))\n",
    "\n",
    "type(np.arange(5))"
   ]
  },
  {
   "cell_type": "code",
   "execution_count": 11,
   "metadata": {},
   "outputs": [
    {
     "data": {
      "text/plain": [
       "array([0., 1., 2., 3., 4., 5., 6., 7., 8., 9.])"
      ]
     },
     "execution_count": 11,
     "metadata": {},
     "output_type": "execute_result"
    }
   ],
   "source": [
    "# Messing around with type\n",
    "\n",
    "int_array = np.arange(10)\n",
    "\n",
    "int_array\n",
    "\n",
    "decimals = np.array([.11, .22], dtype=np.float64)\n",
    "\n",
    "# Casting the dtype of another array\n",
    "int_array.astype(decimals.dtype)"
   ]
  },
  {
   "cell_type": "code",
   "execution_count": 12,
   "metadata": {},
   "outputs": [
    {
     "data": {
      "text/plain": [
       "array([50, 50, 50,  3,  4,  5,  6,  7,  8,  9])"
      ]
     },
     "execution_count": 12,
     "metadata": {},
     "output_type": "execute_result"
    }
   ],
   "source": [
    "# Indexing/slicing\n",
    "arr5 = np.arange(10)\n",
    "\n",
    "arr5[0:3]\n",
    "\n",
    "# 'Broadcasting' onto arrays\n",
    "arr5[0:3] = 50\n",
    "\n",
    "arr5"
   ]
  },
  {
   "cell_type": "code",
   "execution_count": 13,
   "metadata": {},
   "outputs": [
    {
     "data": {
      "text/plain": [
       "array([ 50, 123,  50,   3,   4,   5,   6,   7,   8,   9])"
      ]
     },
     "execution_count": 13,
     "metadata": {},
     "output_type": "execute_result"
    }
   ],
   "source": [
    "# array slices as views of original array\n",
    "\n",
    "arr_slice = arr5[0:3]\n",
    "arr_slice\n",
    "\n",
    "# Because arr_slice is just a 'view' of arr5[0:3]\n",
    "# When I make a change to arr_slice[1] it technically modifies\n",
    "# arr5[1]\n",
    "arr_slice[1] = 123\n",
    "\n",
    "# Crazy!\n",
    "arr5\n",
    "\n",
    "# If you did want to copy, just .copy()\n",
    "\n",
    "arr_slice2 = arr5[0:3].copy()\n",
    "\n",
    "arr_slice2[:] = 999\n",
    "\n",
    "arr_slice2\n",
    "\n",
    "# Voila!\n",
    "arr5"
   ]
  },
  {
   "cell_type": "code",
   "execution_count": 14,
   "metadata": {},
   "outputs": [
    {
     "data": {
      "text/plain": [
       "array([[1, 2, 3],\n",
       "       [4, 5, 6],\n",
       "       [7, 8, 9]])"
      ]
     },
     "execution_count": 14,
     "metadata": {},
     "output_type": "execute_result"
    }
   ],
   "source": [
    "# On to two dimension arrays!\n",
    "\n",
    "arr_md = np.array([[1,2,3], [4,5,6], [7,8,9]])\n",
    "\n",
    "arr_md"
   ]
  },
  {
   "cell_type": "code",
   "execution_count": 15,
   "metadata": {},
   "outputs": [
    {
     "name": "stdout",
     "output_type": "stream",
     "text": [
      "1\n",
      "2\n",
      "3\n",
      "4\n",
      "5\n",
      "6\n",
      "7\n",
      "8\n",
      "9\n"
     ]
    }
   ],
   "source": [
    "arr_md[0][2]\n",
    "# same as\n",
    "arr_md[0, 2]\n",
    "\n",
    "# But both bad because of index chaining?\n",
    "# Nvm I guess loc iloc aren't properties of NumPy arrays\n",
    "\n",
    "for row in range(len(arr_md)):\n",
    "    for column in range(len(arr_md)):\n",
    "        print(arr_md[row, column])"
   ]
  },
  {
   "cell_type": "code",
   "execution_count": 16,
   "metadata": {},
   "outputs": [
    {
     "data": {
      "text/plain": [
       "array([[ 7,  8,  9],\n",
       "       [10, 11, 12]])"
      ]
     },
     "execution_count": 16,
     "metadata": {},
     "output_type": "execute_result"
    }
   ],
   "source": [
    "# N Dimensional arrays\n",
    "\n",
    "arr_3d = np.array([[[1,2,3], [4,5,6]], [[7,8,9], [10,11,12]]])\n",
    "\n",
    "arr_3d[0, 1, 1]\n",
    "\n",
    "arr_3d[1]"
   ]
  },
  {
   "cell_type": "code",
   "execution_count": 17,
   "metadata": {},
   "outputs": [
    {
     "data": {
      "text/plain": [
       "array([[1, 2, 3],\n",
       "       [4, 5, 6],\n",
       "       [7, 8, 9]])"
      ]
     },
     "execution_count": 17,
     "metadata": {},
     "output_type": "execute_result"
    }
   ],
   "source": [
    "arr_md"
   ]
  },
  {
   "cell_type": "code",
   "execution_count": 18,
   "metadata": {},
   "outputs": [
    {
     "data": {
      "text/plain": [
       "array([[ 1,  2,  3],\n",
       "       [ 4, 11, 11],\n",
       "       [ 7, 11, 11]])"
      ]
     },
     "execution_count": 18,
     "metadata": {},
     "output_type": "execute_result"
    }
   ],
   "source": [
    "# Same stuff but with slicing instead indexing\n",
    "arr_md\n",
    "arr_md[0:2]\n",
    "\n",
    "# YOU CAN MIX INDEXES AND SLICES! Cool\n",
    "arr_md[:3, 0]\n",
    "\n",
    "arr_md[:2, 1:2]\n",
    "\n",
    "arr_md[:, :2]\n",
    "\n",
    "arr_md[1:3, 1:3]\n",
    "\n",
    "# and if you want to destroy things\n",
    "\n",
    "arr_md[1:3, 1:3] * 3\n",
    "\n",
    "arr_md[1:3, 1:3] = 11\n",
    "\n",
    "arr_md"
   ]
  },
  {
   "cell_type": "code",
   "execution_count": 19,
   "metadata": {},
   "outputs": [
    {
     "data": {
      "text/plain": [
       "array([[-0.37446181,  1.97983472,  1.30259044, -0.76068853, -0.38403333,\n",
       "        -0.58921021],\n",
       "       [ 0.86904303, -0.55828223,  0.58721247,  0.85384219, -0.44331003,\n",
       "         0.36832809],\n",
       "       [ 0.6618543 ,  2.00916752,  0.30178932,  0.71261075, -0.61082369,\n",
       "         0.4436623 ],\n",
       "       [ 0.51627589,  1.14575161, -0.80097744, -1.08740015, -0.88365621,\n",
       "        -0.62028114],\n",
       "       [-1.38023211, -1.23913218,  0.78733943,  1.38221026, -0.51527413,\n",
       "        -0.30460805],\n",
       "       [ 0.25880582, -0.04217327,  0.92321458,  1.2608482 ,  0.44009483,\n",
       "         0.00794235]])"
      ]
     },
     "execution_count": 19,
     "metadata": {},
     "output_type": "execute_result"
    }
   ],
   "source": [
    "# Boolean Indexing!\n",
    "names = np.array(['Dog', 'Cat', 'Frog', 'Frog', 'Cat', 'Dog'])\n",
    "\n",
    "data = np.random.randn(6, 6)\n",
    "\n",
    "data"
   ]
  },
  {
   "cell_type": "code",
   "execution_count": 20,
   "metadata": {},
   "outputs": [
    {
     "data": {
      "text/plain": [
       "array([[ 1.97983472, -0.38403333],\n",
       "       [-0.55828223, -0.44331003],\n",
       "       [ 2.00916752, -0.61082369],\n",
       "       [ 1.14575161, -0.88365621],\n",
       "       [-1.23913218, -0.51527413],\n",
       "       [-0.04217327,  0.44009483]])"
      ]
     },
     "execution_count": 20,
     "metadata": {},
     "output_type": "execute_result"
    }
   ],
   "source": [
    "names == 'Cat'\n",
    "\n",
    "# Interesting! This is if I just wanted the 'rows' that matched the boolean array for names == 'Cat'\n",
    "# data[names == 'Cat']\n",
    "\n",
    "# And same thing but for the columns\n",
    "data[:, names == 'Cat']"
   ]
  },
  {
   "cell_type": "code",
   "execution_count": 21,
   "metadata": {},
   "outputs": [
    {
     "data": {
      "text/plain": [
       "array([ 0.86904303, -1.38023211])"
      ]
     },
     "execution_count": 21,
     "metadata": {},
     "output_type": "execute_result"
    }
   ],
   "source": [
    "# And other flavors\n",
    "\n",
    "data[names == 'Cat', :2]\n",
    "\n",
    "data[:2, names == 'Cat']\n",
    "\n",
    "data[names == 'Cat', 0]"
   ]
  },
  {
   "cell_type": "code",
   "execution_count": 22,
   "metadata": {},
   "outputs": [
    {
     "data": {
      "text/plain": [
       "array([[-0.37446181,  1.30259044, -0.76068853, -0.58921021],\n",
       "       [ 0.86904303,  0.58721247,  0.85384219,  0.36832809],\n",
       "       [ 0.6618543 ,  0.30178932,  0.71261075,  0.4436623 ],\n",
       "       [ 0.51627589, -0.80097744, -1.08740015, -0.62028114],\n",
       "       [-1.38023211,  0.78733943,  1.38221026, -0.30460805],\n",
       "       [ 0.25880582,  0.92321458,  1.2608482 ,  0.00794235]])"
      ]
     },
     "execution_count": 22,
     "metadata": {},
     "output_type": "execute_result"
    }
   ],
   "source": [
    "# Negated conditions\n",
    "\n",
    "names != 'Cat'\n",
    "\n",
    "data[:, names != 'Cat']\n",
    "\n",
    "data[:, ~(names == 'Cat')]"
   ]
  },
  {
   "cell_type": "code",
   "execution_count": 23,
   "metadata": {},
   "outputs": [
    {
     "data": {
      "text/plain": [
       "array([[ 0.86904303, -0.55828223,  0.58721247,  0.85384219, -0.44331003,\n",
       "         0.36832809],\n",
       "       [-1.38023211, -1.23913218,  0.78733943,  1.38221026, -0.51527413,\n",
       "        -0.30460805]])"
      ]
     },
     "execution_count": 23,
     "metadata": {},
     "output_type": "execute_result"
    }
   ],
   "source": [
    "# Then functionalize this bad boy!\n",
    "\n",
    "condition = names == 'Cat'\n",
    "\n",
    "data[condition]"
   ]
  },
  {
   "cell_type": "code",
   "execution_count": 24,
   "metadata": {},
   "outputs": [
    {
     "data": {
      "text/plain": [
       "array([[-0.37446181,  1.97983472,  1.30259044, -0.76068853, -0.38403333,\n",
       "        -0.58921021],\n",
       "       [ 0.86904303, -0.55828223,  0.58721247,  0.85384219, -0.44331003,\n",
       "         0.36832809],\n",
       "       [-1.38023211, -1.23913218,  0.78733943,  1.38221026, -0.51527413,\n",
       "        -0.30460805],\n",
       "       [ 0.25880582, -0.04217327,  0.92321458,  1.2608482 ,  0.44009483,\n",
       "         0.00794235]])"
      ]
     },
     "execution_count": 24,
     "metadata": {},
     "output_type": "execute_result"
    }
   ],
   "source": [
    "# Multiple conditions? Sure\n",
    "\n",
    "cond = (names == 'Cat') | (names == 'Dog')\n",
    "\n",
    "data[cond]"
   ]
  },
  {
   "cell_type": "code",
   "execution_count": 25,
   "metadata": {},
   "outputs": [
    {
     "data": {
      "text/plain": [
       "array([[0.        , 1.97983472, 1.30259044, 0.        , 0.        ,\n",
       "        0.        ],\n",
       "       [0.86904303, 0.        , 0.58721247, 0.85384219, 0.        ,\n",
       "        0.36832809],\n",
       "       [0.6618543 , 2.00916752, 0.30178932, 0.71261075, 0.        ,\n",
       "        0.4436623 ],\n",
       "       [0.51627589, 1.14575161, 0.        , 0.        , 0.        ,\n",
       "        0.        ],\n",
       "       [0.        , 0.        , 0.78733943, 1.38221026, 0.        ,\n",
       "        0.        ],\n",
       "       [0.25880582, 0.        , 0.92321458, 1.2608482 , 0.44009483,\n",
       "        0.00794235]])"
      ]
     },
     "execution_count": 25,
     "metadata": {},
     "output_type": "execute_result"
    }
   ],
   "source": [
    "# Element-wise value assignment!\n",
    "\n",
    "data[data < 0] = 0\n",
    "\n",
    "data"
   ]
  },
  {
   "cell_type": "code",
   "execution_count": 26,
   "metadata": {},
   "outputs": [
    {
     "data": {
      "text/plain": [
       "array([[0.        , 1.97983472, 1.30259044, 0.        , 0.        ,\n",
       "        0.        ],\n",
       "       [7.        , 7.        , 7.        , 7.        , 7.        ,\n",
       "        7.        ],\n",
       "       [0.6618543 , 2.00916752, 0.30178932, 0.71261075, 0.        ,\n",
       "        0.4436623 ],\n",
       "       [0.51627589, 1.14575161, 0.        , 0.        , 0.        ,\n",
       "        0.        ],\n",
       "       [7.        , 7.        , 7.        , 7.        , 7.        ,\n",
       "        7.        ],\n",
       "       [0.25880582, 0.        , 0.92321458, 1.2608482 , 0.44009483,\n",
       "        0.00794235]])"
      ]
     },
     "execution_count": 26,
     "metadata": {},
     "output_type": "execute_result"
    }
   ],
   "source": [
    "data[names == 'Cat'] = 7\n",
    "\n",
    "data"
   ]
  },
  {
   "cell_type": "code",
   "execution_count": 31,
   "metadata": {},
   "outputs": [
    {
     "data": {
      "text/plain": [
       "array([[1, 9, 8, 3],\n",
       "       [3, 3, 7, 6],\n",
       "       [2, 8, 5, 9],\n",
       "       [3, 7, 2, 2],\n",
       "       [3, 4, 3, 4],\n",
       "       [4, 3, 9, 1],\n",
       "       [3, 7, 6, 6],\n",
       "       [9, 2, 6, 9]])"
      ]
     },
     "execution_count": 31,
     "metadata": {},
     "output_type": "execute_result"
    }
   ],
   "source": [
    "# Fancy indexing\n",
    "arr6 = np.random.randint(low=1, high=10, size=(8, 4))\n",
    "\n",
    "arr6"
   ]
  },
  {
   "cell_type": "code",
   "execution_count": 33,
   "metadata": {},
   "outputs": [
    {
     "data": {
      "text/plain": [
       "array([[4, 3, 9, 1]])"
      ]
     },
     "execution_count": 33,
     "metadata": {},
     "output_type": "execute_result"
    }
   ],
   "source": [
    "arr6[[0,2,4]]\n",
    "\n",
    "arr6[[-3]]"
   ]
  },
  {
   "cell_type": "code",
   "execution_count": 37,
   "metadata": {},
   "outputs": [
    {
     "data": {
      "text/plain": [
       "array([[ 0,  1,  2,  3,  4,  5,  6,  7],\n",
       "       [ 8,  9, 10, 11, 12, 13, 14, 15],\n",
       "       [16, 17, 18, 19, 20, 21, 22, 23],\n",
       "       [24, 25, 26, 27, 28, 29, 30, 31]])"
      ]
     },
     "execution_count": 37,
     "metadata": {},
     "output_type": "execute_result"
    }
   ],
   "source": [
    "arr7 = np.arange(32).reshape((4,8))\n",
    "\n",
    "arr7"
   ]
  },
  {
   "cell_type": "code",
   "execution_count": 40,
   "metadata": {},
   "outputs": [
    {
     "data": {
      "text/plain": [
       "array([ 0,  9, 19, 26])"
      ]
     },
     "execution_count": 40,
     "metadata": {},
     "output_type": "execute_result"
    }
   ],
   "source": [
    "arr7[[0,1,2,3], [0,1,3,2]]\n",
    "\n",
    "# Passing multiple index arrays grabs just the matched positions from each value in the corresponding position of the array"
   ]
  },
  {
   "cell_type": "code",
   "execution_count": 46,
   "metadata": {},
   "outputs": [
    {
     "data": {
      "text/plain": [
       "array([[ 0,  1,  3,  2],\n",
       "       [ 8,  9, 11, 10],\n",
       "       [16, 17, 19, 18],\n",
       "       [24, 25, 27, 26]])"
      ]
     },
     "execution_count": 46,
     "metadata": {},
     "output_type": "execute_result"
    }
   ],
   "source": [
    "# If you wanted to snag the whole area can do\n",
    "\n",
    "arr7[[0,1,2,3]][:, [0,1,3,2]]"
   ]
  },
  {
   "cell_type": "code",
   "execution_count": 65,
   "metadata": {},
   "outputs": [
    {
     "data": {
      "text/plain": [
       "array([[ 0,  1,  2,  3,  4,  5,  6,  7,  8,  9],\n",
       "       [10, 11, 12, 13, 14, 15, 16, 17, 18, 19]])"
      ]
     },
     "execution_count": 65,
     "metadata": {},
     "output_type": "execute_result"
    }
   ],
   "source": [
    "# Transposing arrays\n",
    "arr8 = np.arange(20).reshape((2,10))\n",
    "\n",
    "arr8"
   ]
  },
  {
   "cell_type": "code",
   "execution_count": 64,
   "metadata": {},
   "outputs": [
    {
     "data": {
      "text/plain": [
       "array([[ 0,  5, 10],\n",
       "       [ 1,  6, 11],\n",
       "       [ 2,  7, 12],\n",
       "       [ 3,  8, 13],\n",
       "       [ 4,  9, 14]])"
      ]
     },
     "execution_count": 64,
     "metadata": {},
     "output_type": "execute_result"
    }
   ],
   "source": [
    "arr8.T"
   ]
  },
  {
   "cell_type": "code",
   "execution_count": 61,
   "metadata": {},
   "outputs": [
    {
     "data": {
      "text/plain": [
       "array([[-1.25077398,  0.42938874, -0.59245356],\n",
       "       [-1.76468315,  1.02323777, -1.17314513],\n",
       "       [ 0.05385263, -0.43707569,  0.88298124],\n",
       "       [ 1.60284383, -0.04241801,  0.15510463],\n",
       "       [ 0.65469495, -1.91710305, -0.37604837],\n",
       "       [-0.72742158, -0.49010607, -0.58642533]])"
      ]
     },
     "execution_count": 61,
     "metadata": {},
     "output_type": "execute_result"
    }
   ],
   "source": [
    "arr_dot = np.random.randn(6, 3)\n",
    "\n",
    "arr_dot"
   ]
  },
  {
   "cell_type": "code",
   "execution_count": 66,
   "metadata": {},
   "outputs": [
    {
     "data": {
      "text/plain": [
       "array([[100, 110, 120, 130, 140, 150, 160, 170, 180, 190],\n",
       "       [110, 122, 134, 146, 158, 170, 182, 194, 206, 218],\n",
       "       [120, 134, 148, 162, 176, 190, 204, 218, 232, 246],\n",
       "       [130, 146, 162, 178, 194, 210, 226, 242, 258, 274],\n",
       "       [140, 158, 176, 194, 212, 230, 248, 266, 284, 302],\n",
       "       [150, 170, 190, 210, 230, 250, 270, 290, 310, 330],\n",
       "       [160, 182, 204, 226, 248, 270, 292, 314, 336, 358],\n",
       "       [170, 194, 218, 242, 266, 290, 314, 338, 362, 386],\n",
       "       [180, 206, 232, 258, 284, 310, 336, 362, 388, 414],\n",
       "       [190, 218, 246, 274, 302, 330, 358, 386, 414, 442]])"
      ]
     },
     "execution_count": 66,
     "metadata": {},
     "output_type": "execute_result"
    }
   ],
   "source": [
    "np.dot(arr8.T, arr8)"
   ]
  },
  {
   "cell_type": "code",
   "execution_count": 70,
   "metadata": {},
   "outputs": [
    {
     "name": "stdout",
     "output_type": "stream",
     "text": [
      "287 ns ± 6.92 ns per loop (mean ± std. dev. of 7 runs, 1000000 loops each)\n",
      "149 ns ± 1.11 ns per loop (mean ± std. dev. of 7 runs, 10000000 loops each)\n"
     ]
    }
   ],
   "source": [
    "%timeit arr8.swapaxes(0, 1)\n",
    "\n",
    "%timeit arr8.T"
   ]
  }
 ],
 "metadata": {
  "kernelspec": {
   "display_name": "Python 3",
   "language": "python",
   "name": "python3"
  },
  "language_info": {
   "codemirror_mode": {
    "name": "ipython",
    "version": 3
   },
   "file_extension": ".py",
   "mimetype": "text/x-python",
   "name": "python",
   "nbconvert_exporter": "python",
   "pygments_lexer": "ipython3",
   "version": "3.6.4"
  }
 },
 "nbformat": 4,
 "nbformat_minor": 2
}
