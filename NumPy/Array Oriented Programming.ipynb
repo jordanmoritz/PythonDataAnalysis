{
 "cells": [
  {
   "cell_type": "code",
   "execution_count": 1,
   "metadata": {},
   "outputs": [],
   "source": [
    "import numpy as np\n",
    "import matplotlib.pyplot as plt"
   ]
  },
  {
   "cell_type": "code",
   "execution_count": 2,
   "metadata": {},
   "outputs": [],
   "source": [
    "points = np.arange(-5, 5, 0.1)"
   ]
  },
  {
   "cell_type": "code",
   "execution_count": 3,
   "metadata": {},
   "outputs": [],
   "source": [
    "# This is to demonstrate vectorization\n",
    "xs, ys = np.meshgrid(points, points)"
   ]
  },
  {
   "cell_type": "code",
   "execution_count": 4,
   "metadata": {},
   "outputs": [
    {
     "data": {
      "text/plain": [
       "array([[-5. , -5. , -5. , ..., -5. , -5. , -5. ],\n",
       "       [-4.9, -4.9, -4.9, ..., -4.9, -4.9, -4.9],\n",
       "       [-4.8, -4.8, -4.8, ..., -4.8, -4.8, -4.8],\n",
       "       ...,\n",
       "       [ 4.7,  4.7,  4.7, ...,  4.7,  4.7,  4.7],\n",
       "       [ 4.8,  4.8,  4.8, ...,  4.8,  4.8,  4.8],\n",
       "       [ 4.9,  4.9,  4.9, ...,  4.9,  4.9,  4.9]])"
      ]
     },
     "execution_count": 4,
     "metadata": {},
     "output_type": "execute_result"
    }
   ],
   "source": [
    "ys"
   ]
  },
  {
   "cell_type": "code",
   "execution_count": 5,
   "metadata": {},
   "outputs": [],
   "source": [
    "z = np.sqrt(xs ** 2 + ys **2)"
   ]
  },
  {
   "cell_type": "code",
   "execution_count": 6,
   "metadata": {},
   "outputs": [
    {
     "data": {
      "text/plain": [
       "array([[7.07106781, 7.00071425, 6.93108938, ..., 6.86221539, 6.93108938,\n",
       "        7.00071425],\n",
       "       [7.00071425, 6.92964646, 6.85930026, ..., 6.78969808, 6.85930026,\n",
       "        6.92964646],\n",
       "       [6.93108938, 6.85930026, 6.7882251 , ..., 6.71788657, 6.7882251 ,\n",
       "        6.85930026],\n",
       "       ...,\n",
       "       [6.86221539, 6.78969808, 6.71788657, ..., 6.64680374, 6.71788657,\n",
       "        6.78969808],\n",
       "       [6.93108938, 6.85930026, 6.7882251 , ..., 6.71788657, 6.7882251 ,\n",
       "        6.85930026],\n",
       "       [7.00071425, 6.92964646, 6.85930026, ..., 6.78969808, 6.85930026,\n",
       "        6.92964646]])"
      ]
     },
     "execution_count": 6,
     "metadata": {},
     "output_type": "execute_result"
    }
   ],
   "source": [
    "z"
   ]
  },
  {
   "cell_type": "code",
   "execution_count": 7,
   "metadata": {},
   "outputs": [
    {
     "data": {
      "text/plain": [
       "<matplotlib.colorbar.Colorbar at 0x17da6140630>"
      ]
     },
     "execution_count": 7,
     "metadata": {},
     "output_type": "execute_result"
    },
    {
     "data": {
      "image/png": "[encoded data removed]",
      "text/plain": [
       "<matplotlib.figure.Figure at 0x17da5db3f60>"
      ]
     },
     "metadata": {},
     "output_type": "display_data"
    }
   ],
   "source": [
    "plt.imshow(z, cmap=plt.cm.Greens)\n",
    "plt.colorbar()  # Cool!"
   ]
  },
  {
   "cell_type": "code",
   "execution_count": 8,
   "metadata": {},
   "outputs": [],
   "source": [
    "# Conditional logic as array operations\n",
    "# gist being its way more concise and efficient\n",
    "# to do these sort of operations using vectorization than writing loops\n",
    "xarr = np.array([1.1, 1.2, 1.3, 1.4, 1.5])\n",
    "yarr = np.array([2.1, 2.2, 2.3, 2.4, 2.5])\n",
    "cond = np.array([True, False, True, True, False])"
   ]
  },
  {
   "cell_type": "code",
   "execution_count": 9,
   "metadata": {},
   "outputs": [
    {
     "data": {
      "text/plain": [
       "array([1.1, 2.2, 1.3, 1.4, 2.5])"
      ]
     },
     "execution_count": 9,
     "metadata": {},
     "output_type": "execute_result"
    }
   ],
   "source": [
    "# So rather than using list comprehension\n",
    "result = np.where(cond, xarr, yarr)\n",
    "\n",
    "# output is nonsense, but as an example\n",
    "result"
   ]
  },
  {
   "cell_type": "code",
   "execution_count": 10,
   "metadata": {},
   "outputs": [
    {
     "data": {
      "text/plain": [
       "array([[-1.18449159, -0.01615391,  0.95987654, -0.71065013],\n",
       "       [ 1.50037597, -0.64693764,  0.99581681,  1.35873709]])"
      ]
     },
     "execution_count": 10,
     "metadata": {},
     "output_type": "execute_result"
    }
   ],
   "source": [
    "# A better example\n",
    "arr1 = np.random.randn(2, 4)\n",
    "arr1"
   ]
  },
  {
   "cell_type": "code",
   "execution_count": 11,
   "metadata": {},
   "outputs": [
    {
     "data": {
      "text/plain": [
       "array([[False, False,  True, False],\n",
       "       [ True, False,  True,  True]])"
      ]
     },
     "execution_count": 11,
     "metadata": {},
     "output_type": "execute_result"
    }
   ],
   "source": [
    "arr1 > 0"
   ]
  },
  {
   "cell_type": "code",
   "execution_count": 12,
   "metadata": {},
   "outputs": [
    {
     "data": {
      "text/plain": [
       "array([[-4, -4,  4, -4],\n",
       "       [ 4, -4,  4,  4]])"
      ]
     },
     "execution_count": 12,
     "metadata": {},
     "output_type": "execute_result"
    }
   ],
   "source": [
    "np.where(arr1 > 0, 4, -4) # Cool! Very easy"
   ]
  },
  {
   "cell_type": "code",
   "execution_count": 13,
   "metadata": {},
   "outputs": [
    {
     "data": {
      "text/plain": [
       "array([[ 0.865175  , -1.56341529, -1.45212885],\n",
       "       [-0.1762137 ,  0.00343379, -0.45706262],\n",
       "       [-0.13028256,  0.63063845, -0.55641943],\n",
       "       [ 1.29195302,  0.62948073,  0.14525589],\n",
       "       [ 0.93279213,  0.34699991, -0.53176677],\n",
       "       [-0.22519075,  0.21653267, -0.48148175]])"
      ]
     },
     "execution_count": 13,
     "metadata": {},
     "output_type": "execute_result"
    }
   ],
   "source": [
    "# math functions applied to entire arrays or an axis\n",
    "arr2 = np.random.randn(6, 3)\n",
    "arr2"
   ]
  },
  {
   "cell_type": "code",
   "execution_count": 14,
   "metadata": {},
   "outputs": [
    {
     "data": {
      "text/plain": [
       "0.7431305012518091"
      ]
     },
     "execution_count": 14,
     "metadata": {},
     "output_type": "execute_result"
    }
   ],
   "source": [
    "# As array isntance method\n",
    "arr2.mean()\n",
    "arr2.sum()\n",
    "arr2.std()\n",
    "\n",
    "# Or numpy functions\n",
    "np.mean(arr2)\n",
    "np.sum(arr2)\n",
    "np.std(arr2)"
   ]
  },
  {
   "cell_type": "code",
   "execution_count": 15,
   "metadata": {},
   "outputs": [
    {
     "data": {
      "text/plain": [
       "array([-0.71678972, -0.20994751, -0.01868785,  0.68889655,  0.24934176,\n",
       "       -0.16337994])"
      ]
     },
     "execution_count": 15,
     "metadata": {},
     "output_type": "execute_result"
    }
   ],
   "source": [
    "# Or if I wanted to apply it to a specific axis\n",
    "arr2.mean(axis=0) # down the rows\n",
    "\n",
    "arr2.mean(axis=1) #across the columns\n",
    "# Sort of confusing because it produces something that is like the sum of a row"
   ]
  },
  {
   "cell_type": "code",
   "execution_count": 16,
   "metadata": {},
   "outputs": [
    {
     "data": {
      "text/plain": [
       "array([[ 0.865175  , -0.6982403 , -2.15036915],\n",
       "       [-0.1762137 , -0.17277991, -0.62984253],\n",
       "       [-0.13028256,  0.50035589, -0.05606354],\n",
       "       [ 1.29195302,  1.92143375,  2.06668964],\n",
       "       [ 0.93279213,  1.27979205,  0.74802528],\n",
       "       [-0.22519075, -0.00865808, -0.49013982]])"
      ]
     },
     "execution_count": 16,
     "metadata": {},
     "output_type": "execute_result"
    }
   ],
   "source": [
    "# Rather than aggregations, can also use cumulative functions\n",
    "arr2.cumsum()\n",
    "# And same story with axis\n",
    "arr2.cumsum(axis=0)\n",
    "arr2.cumsum(axis=1)"
   ]
  },
  {
   "cell_type": "code",
   "execution_count": 17,
   "metadata": {},
   "outputs": [
    {
     "data": {
      "text/plain": [
       "47"
      ]
     },
     "execution_count": 17,
     "metadata": {},
     "output_type": "execute_result"
    }
   ],
   "source": [
    "# Boolean arrays\n",
    "# Can do cool stuff like using the basic math methods to count true values for an array\n",
    "arr3 = np.random.randn(80)\n",
    "(arr3 > 0).sum()"
   ]
  },
  {
   "cell_type": "code",
   "execution_count": 18,
   "metadata": {},
   "outputs": [
    {
     "data": {
      "text/plain": [
       "False"
      ]
     },
     "execution_count": 18,
     "metadata": {},
     "output_type": "execute_result"
    }
   ],
   "source": [
    "# Also go these methods specifically for checking boolean criteria\n",
    "arr_bool = np.array([True, False, True])\n",
    "arr_bool.any()\n",
    "arr_bool.all()"
   ]
  },
  {
   "cell_type": "code",
   "execution_count": 19,
   "metadata": {},
   "outputs": [
    {
     "data": {
      "text/plain": [
       "array([-1.26342465, -0.15590989,  1.18789029,  0.72450776, -2.2534611 ,\n",
       "       -0.41593739,  0.57352988, -1.32951696, -0.45678136,  0.78668831])"
      ]
     },
     "execution_count": 19,
     "metadata": {},
     "output_type": "execute_result"
    }
   ],
   "source": [
    "# Sorting in numpy\n",
    "arr4 = np.random.randn(10)\n",
    "arr4"
   ]
  },
  {
   "cell_type": "code",
   "execution_count": 20,
   "metadata": {},
   "outputs": [
    {
     "data": {
      "text/plain": [
       "array([-2.2534611 , -1.32951696, -1.26342465, -0.45678136, -0.41593739,\n",
       "       -0.15590989,  0.57352988,  0.72450776,  0.78668831,  1.18789029])"
      ]
     },
     "execution_count": 20,
     "metadata": {},
     "output_type": "execute_result"
    }
   ],
   "source": [
    "arr4.sort()\n",
    "arr4"
   ]
  },
  {
   "cell_type": "code",
   "execution_count": 21,
   "metadata": {},
   "outputs": [
    {
     "data": {
      "text/plain": [
       "array([[-1.13090963,  1.21484881, -0.47266943],\n",
       "       [ 0.92108749, -0.91124349, -0.34013254],\n",
       "       [-0.059064  , -0.39192692, -0.25227161],\n",
       "       [-0.55489375, -0.06244596,  2.07356626],\n",
       "       [-0.09634821,  0.47620625,  3.77583196]])"
      ]
     },
     "execution_count": 21,
     "metadata": {},
     "output_type": "execute_result"
    }
   ],
   "source": [
    "arr5 = np.random.randn(5,3)\n",
    "arr5"
   ]
  },
  {
   "cell_type": "code",
   "execution_count": 26,
   "metadata": {},
   "outputs": [
    {
     "data": {
      "text/plain": [
       "array([[-1.13090963, -0.47266943, -0.059064  ],\n",
       "       [-0.91124349, -0.34013254,  0.92108749],\n",
       "       [-0.55489375, -0.25227161,  1.21484881],\n",
       "       [-0.39192692, -0.06244596,  2.07356626],\n",
       "       [-0.09634821,  0.47620625,  3.77583196]])"
      ]
     },
     "execution_count": 26,
     "metadata": {},
     "output_type": "execute_result"
    }
   ],
   "source": [
    "arr5.sort(1)\n",
    "arr5"
   ]
  },
  {
   "cell_type": "code",
   "execution_count": 28,
   "metadata": {},
   "outputs": [
    {
     "data": {
      "text/plain": [
       "-1.5871175672515565"
      ]
     },
     "execution_count": 28,
     "metadata": {},
     "output_type": "execute_result"
    }
   ],
   "source": [
    "arr6 = np.random.randn(1000)\n",
    "arr6.sort()\n",
    "arr6[int(0.05 * len(arr6))]"
   ]
  },
  {
   "cell_type": "code",
   "execution_count": 29,
   "metadata": {},
   "outputs": [
    {
     "data": {
      "text/plain": [
       "array(['Cat', 'Dog', 'Frog'], dtype='<U4')"
      ]
     },
     "execution_count": 29,
     "metadata": {},
     "output_type": "execute_result"
    }
   ],
   "source": [
    "# Set operations on arrays\n",
    "# Numpy unique vs vanilla Python\n",
    "animals = np.array(['Cat', 'Frog', 'Dog', 'Cat', 'Frog'])\n",
    "np.unique(animals)"
   ]
  },
  {
   "cell_type": "code",
   "execution_count": 31,
   "metadata": {},
   "outputs": [
    {
     "name": "stdout",
     "output_type": "stream",
     "text": [
      "2.41 µs ± 27.7 ns per loop (mean ± std. dev. of 7 runs, 100000 loops each)\n",
      "4.98 µs ± 46.6 ns per loop (mean ± std. dev. of 7 runs, 100000 loops each)\n"
     ]
    }
   ],
   "source": [
    "# Could have been useful in ManagementAPI case\n",
    "%timeit sorted(set(animals))\n",
    "\n",
    "%timeit np.unique(animals)\n",
    "# In this case though, Python's actually faster. Though less concise"
   ]
  }
 ],
 "metadata": {
  "kernelspec": {
   "display_name": "Python 3",
   "language": "python",
   "name": "python3"
  },
  "language_info": {
   "codemirror_mode": {
    "name": "ipython",
    "version": 3
   },
   "file_extension": ".py",
   "mimetype": "text/x-python",
   "name": "python",
   "nbconvert_exporter": "python",
   "pygments_lexer": "ipython3",
   "version": "3.6.4"
  }
 },
 "nbformat": 4,
 "nbformat_minor": 2
}
