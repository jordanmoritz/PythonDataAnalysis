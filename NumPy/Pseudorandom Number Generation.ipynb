{
 "cells": [
  {
   "cell_type": "code",
   "execution_count": 1,
   "metadata": {},
   "outputs": [],
   "source": [
    "import numpy as np"
   ]
  },
  {
   "cell_type": "code",
   "execution_count": 4,
   "metadata": {},
   "outputs": [
    {
     "data": {
      "text/plain": [
       "array([[-1.01383715, -0.38537413, -1.34577629,  0.48449232,  1.32174251],\n",
       "       [ 0.9204746 ,  0.12671252,  0.46186275, -1.48196536, -0.77132411],\n",
       "       [-0.80544817,  1.23257364, -1.2947031 , -3.1268807 ,  0.14794434],\n",
       "       [ 1.42686845, -0.09277888,  0.19998656,  0.16082536,  1.1530238 ],\n",
       "       [-0.19789886,  1.19955956,  2.61960628,  1.29327821,  0.49877278]])"
      ]
     },
     "execution_count": 4,
     "metadata": {},
     "output_type": "execute_result"
    }
   ],
   "source": [
    "sample = np.random.normal(size=(5, 5))\n",
    "sample"
   ]
  },
  {
   "cell_type": "code",
   "execution_count": 5,
   "metadata": {},
   "outputs": [],
   "source": [
    "# zippier compared to built in Python mobule\n",
    "from random import normalvariate"
   ]
  },
  {
   "cell_type": "code",
   "execution_count": 6,
   "metadata": {},
   "outputs": [],
   "source": [
    "N = 1000000"
   ]
  },
  {
   "cell_type": "code",
   "execution_count": 7,
   "metadata": {},
   "outputs": [
    {
     "name": "stdout",
     "output_type": "stream",
     "text": [
      "736 ms ± 6.35 ms per loop (mean ± std. dev. of 7 runs, 1 loop each)\n",
      "30.2 ms ± 377 µs per loop (mean ± std. dev. of 7 runs, 10 loops each)\n"
     ]
    }
   ],
   "source": [
    "%timeit py_sample = [normalvariate(0, 1) for _ in range(N)]\n",
    "\n",
    "%timeit np.random.normal(size=N)"
   ]
  },
  {
   "cell_type": "code",
   "execution_count": 8,
   "metadata": {},
   "outputs": [],
   "source": [
    "# pseudo because it uses a seed\n",
    "np.random.seed(5678)"
   ]
  },
  {
   "cell_type": "code",
   "execution_count": 9,
   "metadata": {},
   "outputs": [],
   "source": [
    "# as a way to avoid global scope\n",
    "\n",
    "ran_num = np.random.RandomState(seed=5678)"
   ]
  },
  {
   "cell_type": "code",
   "execution_count": 10,
   "metadata": {},
   "outputs": [
    {
     "data": {
      "text/plain": [
       "array([-0.70978938, -0.01719118,  0.31941137, -2.26533107, -1.37745366,\n",
       "        1.94998073, -0.56381007, -0.84373759,  0.22453858, -0.39137772,\n",
       "        0.60550347, -0.68615034,  1.18336005,  0.54895683, -0.39621907,\n",
       "        1.3737187 , -0.21972682,  0.15974422,  0.97310239, -0.00849755])"
      ]
     },
     "execution_count": 10,
     "metadata": {},
     "output_type": "execute_result"
    }
   ],
   "source": [
    "ran_num.randn(20)"
   ]
  }
 ],
 "metadata": {
  "kernelspec": {
   "display_name": "Python 3",
   "language": "python",
   "name": "python3"
  },
  "language_info": {
   "codemirror_mode": {
    "name": "ipython",
    "version": 3
   },
   "file_extension": ".py",
   "mimetype": "text/x-python",
   "name": "python",
   "nbconvert_exporter": "python",
   "pygments_lexer": "ipython3",
   "version": "3.6.4"
  }
 },
 "nbformat": 4,
 "nbformat_minor": 2
}
